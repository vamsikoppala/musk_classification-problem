{
 "cells": [
  {
   "cell_type": "markdown",
   "metadata": {},
   "source": [
    "# Task: The given dataset contains details about organic chemical compounds including their chemical features, isomeric conformation, names and the classes in which they are classified. The compounds are classified as either ‘Musk’ or ‘Non-Musk’ compounds. Your task is to build a classification model on the given data using any Deep Learning approach that you deem appropriate viz. Multi-Layer Perceptron, CNN, RNN, etc. or you could also use transfer learning approaches through selection of appropriate pre-trained model. The data has to be split in a 80:20 ratio for training and validation datasets. You can perform whatever preprocessing and post-processing operations on the data that may help you improve the performance of your model. You are required to report the performance measures of the model viz. Accuracy( Training and Validation) and Loss(Training and Validation) graphs, F1 score, precision, recall, etc. along with a well detailed report of what models, pre-processing, post-processing approaches you have used and why you chose to use these approaches."
   ]
  },
  {
   "cell_type": "markdown",
   "metadata": {},
   "source": [
    "import required libraries"
   ]
  },
  {
   "cell_type": "code",
   "execution_count": 65,
   "metadata": {},
   "outputs": [],
   "source": [
    "import pandas as pd\n",
    "import numpy as np\n",
    "from tensorflow import keras\n",
    "from tensorflow.keras import layers\n",
    "import matplotlib.pyplot as plt"
   ]
  },
  {
   "cell_type": "markdown",
   "metadata": {},
   "source": [
    "read the Data"
   ]
  },
  {
   "cell_type": "code",
   "execution_count": 12,
   "metadata": {},
   "outputs": [],
   "source": [
    "df=pd.read_csv(\"C:/Users/haiva/Downloads/musk_csv.csv\")"
   ]
  },
  {
   "cell_type": "markdown",
   "metadata": {},
   "source": [
    "checking information about data\n"
   ]
  },
  {
   "cell_type": "code",
   "execution_count": 13,
   "metadata": {},
   "outputs": [
    {
     "name": "stdout",
     "output_type": "stream",
     "text": [
      "<class 'pandas.core.frame.DataFrame'>\n",
      "RangeIndex: 6598 entries, 0 to 6597\n",
      "Columns: 170 entries, ID to class\n",
      "dtypes: int64(168), object(2)\n",
      "memory usage: 8.6+ MB\n"
     ]
    }
   ],
   "source": [
    "df.info()"
   ]
  },
  {
   "cell_type": "markdown",
   "metadata": {},
   "source": [
    "checking for any null values in Data"
   ]
  },
  {
   "cell_type": "code",
   "execution_count": 14,
   "metadata": {},
   "outputs": [
    {
     "data": {
      "text/plain": [
       "ID                   0\n",
       "molecule_name        0\n",
       "conformation_name    0\n",
       "f1                   0\n",
       "f2                   0\n",
       "                    ..\n",
       "f163                 0\n",
       "f164                 0\n",
       "f165                 0\n",
       "f166                 0\n",
       "class                0\n",
       "Length: 170, dtype: int64"
      ]
     },
     "execution_count": 14,
     "metadata": {},
     "output_type": "execute_result"
    }
   ],
   "source": [
    "df.isnull().sum()"
   ]
  },
  {
   "cell_type": "markdown",
   "metadata": {},
   "source": [
    "seperating dependent and independent columns"
   ]
  },
  {
   "cell_type": "code",
   "execution_count": 15,
   "metadata": {},
   "outputs": [],
   "source": [
    "X = df.iloc[:, 3:-1].values\n",
    "y = df.iloc[:, -1].values"
   ]
  },
  {
   "cell_type": "code",
   "execution_count": 16,
   "metadata": {},
   "outputs": [
    {
     "data": {
      "text/plain": [
       "array([[  46, -108,  -60, ...,  -50, -112,   96],\n",
       "       [  41, -188, -145, ...,  -61, -136,   79],\n",
       "       [  46, -194, -145, ...,  -67, -145,   39],\n",
       "       ...,\n",
       "       [  44, -102,  -19, ...,  -66, -144,   -6],\n",
       "       [  51, -121,  -23, ...,  -44, -116,  117],\n",
       "       [  51, -122,  -23, ...,  -44, -115,  118]], dtype=int64)"
      ]
     },
     "execution_count": 16,
     "metadata": {},
     "output_type": "execute_result"
    }
   ],
   "source": [
    "X"
   ]
  },
  {
   "cell_type": "code",
   "execution_count": 17,
   "metadata": {},
   "outputs": [
    {
     "data": {
      "text/plain": [
       "array([1, 1, 1, ..., 0, 0, 0], dtype=int64)"
      ]
     },
     "execution_count": 17,
     "metadata": {},
     "output_type": "execute_result"
    }
   ],
   "source": [
    "y"
   ]
  },
  {
   "cell_type": "markdown",
   "metadata": {},
   "source": [
    "# preprocessing the data"
   ]
  },
  {
   "cell_type": "markdown",
   "metadata": {},
   "source": [
    " Input Data is in diffrent scales we are using standardscaler to scale down the input data"
   ]
  },
  {
   "cell_type": "code",
   "execution_count": 18,
   "metadata": {},
   "outputs": [],
   "source": [
    "from sklearn.preprocessing import StandardScaler\n",
    "sc = StandardScaler()\n",
    "X = sc.fit_transform(X)"
   ]
  },
  {
   "cell_type": "markdown",
   "metadata": {},
   "source": [
    "Split the Data for Training and testing"
   ]
  },
  {
   "cell_type": "code",
   "execution_count": 19,
   "metadata": {},
   "outputs": [],
   "source": [
    "from sklearn.model_selection import train_test_split\n",
    "X_train, X_test, y_train, y_test = train_test_split(X, y, test_size = 0.2, random_state = 0)"
   ]
  },
  {
   "cell_type": "markdown",
   "metadata": {},
   "source": [
    "Training model using Ann"
   ]
  },
  {
   "cell_type": "code",
   "execution_count": 47,
   "metadata": {},
   "outputs": [],
   "source": [
    "import tensorflow as tf\n",
    "model = tf.keras.models.Sequential([\n",
    "    tf.keras.layers.Dense(30, input_shape=(166,),\n",
    "                          activation=tf.nn.sigmoid),    \n",
    "    tf.keras.layers.Dense(1, activation=tf.nn.sigmoid)\n",
    "])\n",
    "\n",
    "# Compiling the ANN\n",
    "model.compile(optimizer='Adam', loss='binary_crossentropy', metrics=['accuracy'])"
   ]
  },
  {
   "cell_type": "code",
   "execution_count": 48,
   "metadata": {},
   "outputs": [
    {
     "name": "stdout",
     "output_type": "stream",
     "text": [
      "Epoch 1/20\n",
      "132/132 [==============================] - 0s 2ms/step - loss: 0.3745 - accuracy: 0.8678 - val_loss: 0.2785 - val_accuracy: 0.9053\n",
      "Epoch 2/20\n",
      "132/132 [==============================] - 0s 1ms/step - loss: 0.2529 - accuracy: 0.9128 - val_loss: 0.2231 - val_accuracy: 0.9252\n",
      "Epoch 3/20\n",
      "132/132 [==============================] - 0s 1ms/step - loss: 0.2147 - accuracy: 0.9256 - val_loss: 0.1998 - val_accuracy: 0.9375\n",
      "Epoch 4/20\n",
      "132/132 [==============================] - 0s 959us/step - loss: 0.1916 - accuracy: 0.9318 - val_loss: 0.1854 - val_accuracy: 0.9347\n",
      "Epoch 5/20\n",
      "132/132 [==============================] - 0s 1ms/step - loss: 0.1722 - accuracy: 0.9382 - val_loss: 0.1727 - val_accuracy: 0.9422\n",
      "Epoch 6/20\n",
      "132/132 [==============================] - 0s 1ms/step - loss: 0.1579 - accuracy: 0.9460 - val_loss: 0.1587 - val_accuracy: 0.9460\n",
      "Epoch 7/20\n",
      "132/132 [==============================] - 0s 943us/step - loss: 0.1460 - accuracy: 0.9484 - val_loss: 0.1531 - val_accuracy: 0.9460\n",
      "Epoch 8/20\n",
      "132/132 [==============================] - 0s 988us/step - loss: 0.1350 - accuracy: 0.9507 - val_loss: 0.1393 - val_accuracy: 0.9527\n",
      "Epoch 9/20\n",
      "132/132 [==============================] - 0s 973us/step - loss: 0.1251 - accuracy: 0.9543 - val_loss: 0.1321 - val_accuracy: 0.9555\n",
      "Epoch 10/20\n",
      "132/132 [==============================] - 0s 968us/step - loss: 0.1171 - accuracy: 0.9581 - val_loss: 0.1283 - val_accuracy: 0.9564\n",
      "Epoch 11/20\n",
      "132/132 [==============================] - 0s 1ms/step - loss: 0.1099 - accuracy: 0.9612 - val_loss: 0.1196 - val_accuracy: 0.9545\n",
      "Epoch 12/20\n",
      "132/132 [==============================] - 0s 984us/step - loss: 0.1032 - accuracy: 0.9621 - val_loss: 0.1126 - val_accuracy: 0.9564\n",
      "Epoch 13/20\n",
      "132/132 [==============================] - 0s 938us/step - loss: 0.0978 - accuracy: 0.9649 - val_loss: 0.1077 - val_accuracy: 0.9574\n",
      "Epoch 14/20\n",
      "132/132 [==============================] - 0s 923us/step - loss: 0.0911 - accuracy: 0.9673 - val_loss: 0.1032 - val_accuracy: 0.9602\n",
      "Epoch 15/20\n",
      "132/132 [==============================] - 0s 952us/step - loss: 0.0869 - accuracy: 0.9678 - val_loss: 0.1000 - val_accuracy: 0.9631\n",
      "Epoch 16/20\n",
      "132/132 [==============================] - 0s 1ms/step - loss: 0.0832 - accuracy: 0.9685 - val_loss: 0.0963 - val_accuracy: 0.9640\n",
      "Epoch 17/20\n",
      "132/132 [==============================] - 0s 1ms/step - loss: 0.0778 - accuracy: 0.9711 - val_loss: 0.0916 - val_accuracy: 0.9669\n",
      "Epoch 18/20\n",
      "132/132 [==============================] - 0s 940us/step - loss: 0.0740 - accuracy: 0.9730 - val_loss: 0.0889 - val_accuracy: 0.9650\n",
      "Epoch 19/20\n",
      "132/132 [==============================] - 0s 948us/step - loss: 0.0707 - accuracy: 0.9739 - val_loss: 0.0856 - val_accuracy: 0.9706\n",
      "Epoch 20/20\n",
      "132/132 [==============================] - 0s 928us/step - loss: 0.0670 - accuracy: 0.9773 - val_loss: 0.0826 - val_accuracy: 0.9678\n"
     ]
    }
   ],
   "source": [
    "history = model.fit(X_train, y_train, validation_split = 0.2, epochs = 20,validation_data=(X_test,y_test))"
   ]
  },
  {
   "cell_type": "markdown",
   "metadata": {},
   "source": [
    "Plot the history of training Accuracy  and loss "
   ]
  },
  {
   "cell_type": "code",
   "execution_count": 59,
   "metadata": {},
   "outputs": [
    {
     "data": {
      "image/png": "[encoded data removed]",
      "text/plain": [
       "<Figure size 432x288 with 1 Axes>"
      ]
     },
     "metadata": {
      "needs_background": "light"
     },
     "output_type": "display_data"
    },
    {
     "data": {
      "image/png": "[encoded data removed]",
      "text/plain": [
       "<Figure size 432x288 with 1 Axes>"
      ]
     },
     "metadata": {
      "needs_background": "light"
     },
     "output_type": "display_data"
    }
   ],
   "source": [
    "plt.plot(history.history['accuracy'])\n",
    "plt.plot(history.history['val_accuracy'])\n",
    "plt.title('model accuracy')\n",
    "plt.ylabel('accuracy')\n",
    "plt.xlabel('epoch')\n",
    "plt.legend(['train', 'test'])\n",
    "plt.savefig('accuracy.png',dpi = 100)\n",
    "plt.show()\n",
    "\n",
    "# summarize history for loss\n",
    "plt.plot(history.history['loss'])\n",
    "plt.plot(history.history['val_loss'])\n",
    "plt.title('model loss')\n",
    "plt.ylabel('loss')\n",
    "plt.xlabel('epoch')\n",
    "plt.legend(['train', 'test'])\n",
    "plt.savefig('loss.png',dpi = 100)\n",
    "plt.show()"
   ]
  },
  {
   "cell_type": "markdown",
   "metadata": {},
   "source": [
    "Validation Accuracy and Validation loss"
   ]
  },
  {
   "cell_type": "code",
   "execution_count": 61,
   "metadata": {},
   "outputs": [
    {
     "name": "stdout",
     "output_type": "stream",
     "text": [
      "96.78030014038086\n",
      "0.08257365226745605\n"
     ]
    }
   ],
   "source": [
    "# Get Validation Accuracy, Validation Loss\n",
    "print(history.history['val_accuracy'][-1] * 100)\n",
    "print(history.history['val_loss'][-1])"
   ]
  },
  {
   "cell_type": "markdown",
   "metadata": {},
   "source": [
    "predicting model for test data"
   ]
  },
  {
   "cell_type": "code",
   "execution_count": 53,
   "metadata": {},
   "outputs": [
    {
     "name": "stdout",
     "output_type": "stream",
     "text": [
      "[0.13536492 0.52224743 0.10446391 0.11901623 0.00339225 0.0057033\n",
      " 0.00201687 0.54162246 0.03072503 0.00317228]\n",
      "[0. 1. 0. 0. 0. 0. 0. 1. 0. 0.]\n"
     ]
    }
   ],
   "source": [
    "y_pred = model.predict(X_test).reshape(-1)\n",
    "print(y_pred[:10])\n",
    "\n",
    "# round the values to nearest integer ie 0 or 1\n",
    "y_pred = np.round(y_pred)\n",
    "print(y_pred[:10])"
   ]
  },
  {
   "cell_type": "markdown",
   "metadata": {},
   "source": [
    "Classification Report "
   ]
  },
  {
   "cell_type": "code",
   "execution_count": 54,
   "metadata": {},
   "outputs": [
    {
     "name": "stdout",
     "output_type": "stream",
     "text": [
      "              precision    recall  f1-score   support\n",
      "\n",
      "           0       0.97      0.99      0.98      1120\n",
      "           1       0.93      0.85      0.89       200\n",
      "\n",
      "    accuracy                           0.97      1320\n",
      "   macro avg       0.95      0.92      0.94      1320\n",
      "weighted avg       0.97      0.97      0.97      1320\n",
      "\n"
     ]
    }
   ],
   "source": [
    "\n",
    "from sklearn.metrics import confusion_matrix , classification_report\n",
    "\n",
    "print(classification_report(y_test, y_pred))"
   ]
  },
  {
   "cell_type": "markdown",
   "metadata": {},
   "source": [
    "print fi and recall score for test data"
   ]
  },
  {
   "cell_type": "code",
   "execution_count": 68,
   "metadata": {},
   "outputs": [
    {
     "name": "stdout",
     "output_type": "stream",
     "text": [
      "f1_score: 0.8900523560209425\n",
      "recall: 0.85\n",
      "precission: 0.9340659340659341\n"
     ]
    }
   ],
   "source": [
    "from sklearn.metrics import f1_score, precision_score, recall_score\n",
    "print(\"f1_score:\",f1_score(y_test,y_pred))\n",
    "print(\"recall:\",recall_score(y_test,y_pred))\n",
    "print(\"precission:\", precision_score(y_test,y_pred))"
   ]
  },
  {
   "cell_type": "markdown",
   "metadata": {},
   "source": [
    "Save the model"
   ]
  },
  {
   "cell_type": "code",
   "execution_count": 63,
   "metadata": {},
   "outputs": [],
   "source": [
    "# Exporting model to .h5\n",
    "model.save(\"musk_model.h5\")"
   ]
  },
  {
   "cell_type": "markdown",
   "metadata": {},
   "source": [
    "# to create model we have used Gred search  cv to find the parameters to get good accuracy\n",
    "Input Layer - 166 Features\n",
    "\n",
    "Hidden Layer - 30 Neurons (Activation Function - sigmoid)\n",
    "\n",
    "Output Later - 1 Output Feature - Class Label (Activation Function - Sigmoid)\n",
    "\n",
    "Optimizer - Adam\n",
    "\n",
    "Loss - Binary Crossentropy\n",
    "\n",
    "Epochs - 10"
   ]
  },
  {
   "cell_type": "markdown",
   "metadata": {},
   "source": [
    "# Evalution of model\n",
    "Validation Loss: 0.08\n",
    "\n",
    "Validation Accuracy: 96.7%\n",
    "\n",
    "F1-Score: 0.89\n",
    "\n",
    "Precision: 0.93\n",
    "\n",
    "Recall: 0.85"
   ]
  }
 ],
 "metadata": {
  "kernelspec": {
   "display_name": "Python 3",
   "language": "python",
   "name": "python3"
  },
  "language_info": {
   "codemirror_mode": {
    "name": "ipython",
    "version": 3
   },
   "file_extension": ".py",
   "mimetype": "text/x-python",
   "name": "python",
   "nbconvert_exporter": "python",
   "pygments_lexer": "ipython3",
   "version": "3.8.3"
  }
 },
 "nbformat": 4,
 "nbformat_minor": 4
}
